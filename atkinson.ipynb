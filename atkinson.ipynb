{
 "cells": [
  {
   "cell_type": "code",
   "execution_count": 1,
   "metadata": {
    "collapsed": true,
    "deletable": true,
    "editable": true
   },
   "outputs": [],
   "source": [
    "from sage.combinat.posets.posets import FinitePoset \n",
    "import random"
   ]
  },
  {
   "cell_type": "code",
   "execution_count": 6,
   "metadata": {
    "collapsed": true,
    "deletable": true,
    "editable": true
   },
   "outputs": [],
   "source": [
    "def atkinson(fp):\n",
    "\tbinom_coeff = {} #[a,b] ----> a choose b\n",
    "\tn = len(fp._elements)\n",
    "\t\n",
    "\t#Generate Pascal Triangle up to row n\n",
    "\n",
    "\tbinom_coeff[str([0,0])] = 1\n",
    "\tbinom_coeff[str([0,1])] = 0\n",
    "\tbinom_coeff[str([1,0])] = 1\n",
    "\tfor i in range(1, n+1):\n",
    "\t\tfor j in range(0, i+1):\n",
    "\t\t\tif j == 0:\n",
    "\t\t\t\tbinom_coeff[str([i,j])] = 1\n",
    "\t\t\telif j > i:\n",
    "\t\t\t\tbinom_coeff[str([i,j])] = 0\n",
    "\t\t\telif i == j:\n",
    "\t\t\t\tbinom_coeff[str([i,j])] = 1\n",
    "\t\t\telif j == 1:\n",
    "\t\t\t\tbinom_coeff[str([i,j])] = i\n",
    "\t\t\telse:\n",
    "\t\t\t\tbinom_coeff[str([i,j])] = binom_coeff[str([i-1, j-1])] + binom_coeff[str([i-1, j])]\t\t\n",
    "\t\n",
    "\t# Recursively decompose tree and calculate alpha spectrums\n",
    "\n",
    "\tdef decompose(pos, alpha):\n",
    "\t\tif pos.cardinality() == 1:\n",
    "\t\t\treturn [1]\n",
    "\n",
    "\t\tnum_elements = pos.cardinality()\n",
    "\n",
    "\t\talpha_lower = True\n",
    "\n",
    "\t\tnum_edges = len(pos.cover_relations())\n",
    "\t\t\n",
    "\t\tcovers = pos.upper_covers(alpha)\n",
    "\n",
    "\t\tif len(covers) == 0:\n",
    "\t\t\talpha_lower = False\n",
    "\t\t\tcovers = pos.lower_covers(alpha)\n",
    "\n",
    "\t\tbeta = random.choice(covers)\n",
    "\n",
    "\t\tedges = pos.cover_relations()\n",
    "\n",
    "\t\tif alpha_lower:\n",
    "\t\t\tedges.remove([alpha, beta])\n",
    "\n",
    "\t\telse:\n",
    "\t\t\tedges.remove([beta,alpha])\n",
    "\t\t# Separate posets\n",
    "\n",
    "\t\tnew_pos = FinitePoset(pos._elements, edges)\n",
    "\n",
    "\t\tsub_pos = new_pos.connected_components()\n",
    "\n",
    "\t\t# Recurse and recombine\n",
    "\n",
    "\t\t# Determine which connected component contains alpha \n",
    "\t\tif alpha in sub_pos[0]._elements:\n",
    "\t\t\tP = sub_pos[0]\n",
    "\t\t\tQ = sub_pos[1]\n",
    "\n",
    "\t\telse:\n",
    "\t\t\tP = sub_pos[1]\n",
    "\t\t\tQ = sub_pos[0]\n",
    "\n",
    "\t\tu = P.cardinality()\n",
    "\t\tv = Q.cardinality()\n",
    "\n",
    "\t\tP_spec = decompose(P, alpha)\n",
    "\t\tQ_spec = decompose(Q, beta)\n",
    "\n",
    "\t\t# Calculate alpha spec \n",
    "\n",
    "\t\talpha_spec = []\n",
    "\t\tsums_Q_spec = [Q_spec[0]]\n",
    "\n",
    "\t\tfor i in range(1, len(Q_spec)):\n",
    "\t\t\tsums_Q_spec.append(sums_Q_spec[i-1] + Q_spec[i])\n",
    "\n",
    "\t\t# If alpha is not maximal, calculate formula 1\n",
    "\t\tif alpha_lower:\n",
    "\t\t\tfor rank in range(0, num_elements):\n",
    "\t\t\t\tr = rank + 1\n",
    "\t\t\t\trank_r_val = 0\n",
    "\t\t\t\tfor ind in range(max(1, r - v)-1, min(u, r)):\n",
    "\t\t\t\t\ti = ind + 1\n",
    "\t\t\t\t\tk = binom_coeff[str([r-1, i-1])] * binom_coeff[str([u+v-r, u-i])]\n",
    "\t\t\t\t\trank_r_val += P_spec[ind] * k * (sums_Q_spec[v-1] - sums_Q_spec[r - i])\n",
    "\t\t\t\talpha_spec.append(rank_r_val)\n",
    "\t\t# Otherwise, calculate formula 2, where beta < alpha\n",
    "\t\telse:\n",
    "\t\t\tfor rank in range(0, num_elements):\n",
    "\t\t\t\tr = rank + 1\n",
    "\t\t\t\trank_r_val = 0\n",
    "\t\t\t\tfor ind in range(max(1, r - v)-1, min(u, r)):\n",
    "\t\t\t\t\ti = ind + 1\n",
    "\t\t\t\t\tk = binom_coeff[str([r-1, i-1])] * binom_coeff[str([u+v-r, u-i])]\n",
    "\t\t\t\t\trank_r_val += P_spec[ind] * k * (sums_Q_spec[r-i - 1])\n",
    "\t\t\t\talpha_spec.append(rank_r_val)\n",
    "\n",
    "\n",
    "\n",
    "\n",
    "\n",
    "\tl = decompose(fp, random.choice(fp._elements))\n",
    "\n",
    "\treturn sum(l)\n"
   ]
  },
  {
   "cell_type": "code",
   "execution_count": 7,
   "metadata": {
    "collapsed": false,
    "deletable": true,
    "editable": true
   },
   "outputs": [
    {
     "ename": "AssertionError",
     "evalue": "",
     "output_type": "error",
     "traceback": [
      "\u001b[0;31m---------------------------------------------------------------------------\u001b[0m",
      "\u001b[0;31mAssertionError\u001b[0m                            Traceback (most recent call last)",
      "\u001b[0;32m<ipython-input-7-36e69aefbc5f>\u001b[0m in \u001b[0;36m<module>\u001b[0;34m()\u001b[0m\n\u001b[1;32m      1\u001b[0m \u001b[0mD\u001b[0m \u001b[0;34m=\u001b[0m \u001b[0mDiGraph\u001b[0m\u001b[0;34m(\u001b[0m\u001b[0;34m[\u001b[0m\u001b[0;34m[\u001b[0m\u001b[0mInteger\u001b[0m\u001b[0;34m(\u001b[0m\u001b[0;36m0\u001b[0m\u001b[0;34m)\u001b[0m\u001b[0;34m,\u001b[0m\u001b[0mInteger\u001b[0m\u001b[0;34m(\u001b[0m\u001b[0;36m1\u001b[0m\u001b[0;34m)\u001b[0m\u001b[0;34m,\u001b[0m\u001b[0mInteger\u001b[0m\u001b[0;34m(\u001b[0m\u001b[0;36m2\u001b[0m\u001b[0;34m)\u001b[0m\u001b[0;34m,\u001b[0m\u001b[0mInteger\u001b[0m\u001b[0;34m(\u001b[0m\u001b[0;36m3\u001b[0m\u001b[0;34m)\u001b[0m\u001b[0;34m,\u001b[0m\u001b[0mInteger\u001b[0m\u001b[0;34m(\u001b[0m\u001b[0;36m4\u001b[0m\u001b[0;34m)\u001b[0m\u001b[0;34m,\u001b[0m\u001b[0mInteger\u001b[0m\u001b[0;34m(\u001b[0m\u001b[0;36m5\u001b[0m\u001b[0;34m)\u001b[0m\u001b[0;34m,\u001b[0m\u001b[0mInteger\u001b[0m\u001b[0;34m(\u001b[0m\u001b[0;36m6\u001b[0m\u001b[0;34m)\u001b[0m\u001b[0;34m,\u001b[0m\u001b[0mInteger\u001b[0m\u001b[0;34m(\u001b[0m\u001b[0;36m7\u001b[0m\u001b[0;34m)\u001b[0m\u001b[0;34m,\u001b[0m\u001b[0mInteger\u001b[0m\u001b[0;34m(\u001b[0m\u001b[0;36m8\u001b[0m\u001b[0;34m)\u001b[0m\u001b[0;34m,\u001b[0m\u001b[0mInteger\u001b[0m\u001b[0;34m(\u001b[0m\u001b[0;36m9\u001b[0m\u001b[0;34m)\u001b[0m\u001b[0;34m]\u001b[0m\u001b[0;34m,\u001b[0m\u001b[0;34m[\u001b[0m\u001b[0;34m[\u001b[0m\u001b[0mInteger\u001b[0m\u001b[0;34m(\u001b[0m\u001b[0;36m0\u001b[0m\u001b[0;34m)\u001b[0m\u001b[0;34m,\u001b[0m\u001b[0mInteger\u001b[0m\u001b[0;34m(\u001b[0m\u001b[0;36m1\u001b[0m\u001b[0;34m)\u001b[0m\u001b[0;34m]\u001b[0m\u001b[0;34m,\u001b[0m\u001b[0;34m[\u001b[0m\u001b[0mInteger\u001b[0m\u001b[0;34m(\u001b[0m\u001b[0;36m2\u001b[0m\u001b[0;34m)\u001b[0m\u001b[0;34m,\u001b[0m\u001b[0mInteger\u001b[0m\u001b[0;34m(\u001b[0m\u001b[0;36m1\u001b[0m\u001b[0;34m)\u001b[0m\u001b[0;34m]\u001b[0m\u001b[0;34m,\u001b[0m\u001b[0;34m[\u001b[0m\u001b[0mInteger\u001b[0m\u001b[0;34m(\u001b[0m\u001b[0;36m2\u001b[0m\u001b[0;34m)\u001b[0m\u001b[0;34m,\u001b[0m\u001b[0mInteger\u001b[0m\u001b[0;34m(\u001b[0m\u001b[0;36m3\u001b[0m\u001b[0;34m)\u001b[0m\u001b[0;34m]\u001b[0m\u001b[0;34m,\u001b[0m\u001b[0;34m[\u001b[0m\u001b[0mInteger\u001b[0m\u001b[0;34m(\u001b[0m\u001b[0;36m4\u001b[0m\u001b[0;34m)\u001b[0m\u001b[0;34m,\u001b[0m\u001b[0mInteger\u001b[0m\u001b[0;34m(\u001b[0m\u001b[0;36m3\u001b[0m\u001b[0;34m)\u001b[0m\u001b[0;34m]\u001b[0m\u001b[0;34m,\u001b[0m\u001b[0;34m[\u001b[0m\u001b[0mInteger\u001b[0m\u001b[0;34m(\u001b[0m\u001b[0;36m4\u001b[0m\u001b[0;34m)\u001b[0m\u001b[0;34m,\u001b[0m\u001b[0mInteger\u001b[0m\u001b[0;34m(\u001b[0m\u001b[0;36m5\u001b[0m\u001b[0;34m)\u001b[0m\u001b[0;34m]\u001b[0m\u001b[0;34m,\u001b[0m\u001b[0;34m[\u001b[0m\u001b[0mInteger\u001b[0m\u001b[0;34m(\u001b[0m\u001b[0;36m6\u001b[0m\u001b[0;34m)\u001b[0m\u001b[0;34m,\u001b[0m\u001b[0mInteger\u001b[0m\u001b[0;34m(\u001b[0m\u001b[0;36m5\u001b[0m\u001b[0;34m)\u001b[0m\u001b[0;34m]\u001b[0m\u001b[0;34m,\u001b[0m\u001b[0;34m[\u001b[0m\u001b[0mInteger\u001b[0m\u001b[0;34m(\u001b[0m\u001b[0;36m7\u001b[0m\u001b[0;34m)\u001b[0m\u001b[0;34m,\u001b[0m\u001b[0mInteger\u001b[0m\u001b[0;34m(\u001b[0m\u001b[0;36m4\u001b[0m\u001b[0;34m)\u001b[0m\u001b[0;34m]\u001b[0m\u001b[0;34m,\u001b[0m\u001b[0;34m[\u001b[0m\u001b[0mInteger\u001b[0m\u001b[0;34m(\u001b[0m\u001b[0;36m7\u001b[0m\u001b[0;34m)\u001b[0m\u001b[0;34m,\u001b[0m\u001b[0mInteger\u001b[0m\u001b[0;34m(\u001b[0m\u001b[0;36m8\u001b[0m\u001b[0;34m)\u001b[0m\u001b[0;34m]\u001b[0m\u001b[0;34m,\u001b[0m\u001b[0;34m[\u001b[0m\u001b[0mInteger\u001b[0m\u001b[0;34m(\u001b[0m\u001b[0;36m9\u001b[0m\u001b[0;34m)\u001b[0m\u001b[0;34m,\u001b[0m\u001b[0mInteger\u001b[0m\u001b[0;34m(\u001b[0m\u001b[0;36m8\u001b[0m\u001b[0;34m)\u001b[0m\u001b[0;34m]\u001b[0m\u001b[0;34m]\u001b[0m\u001b[0;34m]\u001b[0m\u001b[0;34m)\u001b[0m\u001b[0;34m\u001b[0m\u001b[0m\n\u001b[0;32m----> 2\u001b[0;31m \u001b[0matkinson\u001b[0m\u001b[0;34m(\u001b[0m\u001b[0mFinitePoset\u001b[0m\u001b[0;34m(\u001b[0m\u001b[0mD\u001b[0m\u001b[0;34m)\u001b[0m\u001b[0;34m)\u001b[0m\u001b[0;34m\u001b[0m\u001b[0m\n\u001b[0m",
      "\u001b[0;32m<ipython-input-6-c62fc3c3a754>\u001b[0m in \u001b[0;36matkinson\u001b[0;34m(fp)\u001b[0m\n\u001b[1;32m    104\u001b[0m \u001b[0;34m\u001b[0m\u001b[0m\n\u001b[1;32m    105\u001b[0m \u001b[0;34m\u001b[0m\u001b[0m\n\u001b[0;32m--> 106\u001b[0;31m         \u001b[0ml\u001b[0m \u001b[0;34m=\u001b[0m \u001b[0mdecompose\u001b[0m\u001b[0;34m(\u001b[0m\u001b[0mfp\u001b[0m\u001b[0;34m,\u001b[0m \u001b[0mrandom\u001b[0m\u001b[0;34m.\u001b[0m\u001b[0mchoice\u001b[0m\u001b[0;34m(\u001b[0m\u001b[0mfp\u001b[0m\u001b[0;34m.\u001b[0m\u001b[0m_elements\u001b[0m\u001b[0;34m)\u001b[0m\u001b[0;34m)\u001b[0m\u001b[0;34m\u001b[0m\u001b[0m\n\u001b[0m\u001b[1;32m    107\u001b[0m \u001b[0;34m\u001b[0m\u001b[0m\n\u001b[1;32m    108\u001b[0m         \u001b[0;32mreturn\u001b[0m \u001b[0msum\u001b[0m\u001b[0;34m(\u001b[0m\u001b[0ml\u001b[0m\u001b[0;34m)\u001b[0m\u001b[0;34m\u001b[0m\u001b[0m\n",
      "\u001b[0;32m<ipython-input-6-c62fc3c3a754>\u001b[0m in \u001b[0;36mdecompose\u001b[0;34m(pos, alpha)\u001b[0m\n\u001b[1;32m     50\u001b[0m                 \u001b[0;31m# Separate posets\u001b[0m\u001b[0;34m\u001b[0m\u001b[0;34m\u001b[0m\u001b[0m\n\u001b[1;32m     51\u001b[0m \u001b[0;34m\u001b[0m\u001b[0m\n\u001b[0;32m---> 52\u001b[0;31m                 \u001b[0mnew_pos\u001b[0m \u001b[0;34m=\u001b[0m \u001b[0mFinitePoset\u001b[0m\u001b[0;34m(\u001b[0m\u001b[0mpos\u001b[0m\u001b[0;34m.\u001b[0m\u001b[0m_elements\u001b[0m\u001b[0;34m,\u001b[0m \u001b[0medges\u001b[0m\u001b[0;34m)\u001b[0m\u001b[0;34m\u001b[0m\u001b[0m\n\u001b[0m\u001b[1;32m     53\u001b[0m \u001b[0;34m\u001b[0m\u001b[0m\n\u001b[1;32m     54\u001b[0m                 \u001b[0msub_pos\u001b[0m \u001b[0;34m=\u001b[0m \u001b[0mnew_pos\u001b[0m\u001b[0;34m.\u001b[0m\u001b[0mconnected_components\u001b[0m\u001b[0;34m(\u001b[0m\u001b[0;34m)\u001b[0m\u001b[0;34m\u001b[0m\u001b[0m\n",
      "\u001b[0;32m/opt/sagemath-8.1/src/sage/misc/classcall_metaclass.pyx\u001b[0m in \u001b[0;36msage.misc.classcall_metaclass.ClasscallMetaclass.__call__ (build/cythonized/sage/misc/classcall_metaclass.c:1589)\u001b[0;34m()\u001b[0m\n\u001b[1;32m    328\u001b[0m         \"\"\"\n\u001b[1;32m    329\u001b[0m         \u001b[0;32mif\u001b[0m \u001b[0mcls\u001b[0m\u001b[0;34m.\u001b[0m\u001b[0mclasscall\u001b[0m \u001b[0;32mis\u001b[0m \u001b[0;32mnot\u001b[0m \u001b[0mNone\u001b[0m\u001b[0;34m:\u001b[0m\u001b[0;34m\u001b[0m\u001b[0m\n\u001b[0;32m--> 330\u001b[0;31m             \u001b[0;32mreturn\u001b[0m \u001b[0mcls\u001b[0m\u001b[0;34m.\u001b[0m\u001b[0mclasscall\u001b[0m\u001b[0;34m(\u001b[0m\u001b[0mcls\u001b[0m\u001b[0;34m,\u001b[0m \u001b[0;34m*\u001b[0m\u001b[0margs\u001b[0m\u001b[0;34m,\u001b[0m \u001b[0;34m**\u001b[0m\u001b[0mkwds\u001b[0m\u001b[0;34m)\u001b[0m\u001b[0;34m\u001b[0m\u001b[0m\n\u001b[0m\u001b[1;32m    331\u001b[0m         \u001b[0;32melse\u001b[0m\u001b[0;34m:\u001b[0m\u001b[0;34m\u001b[0m\u001b[0m\n\u001b[1;32m    332\u001b[0m             \u001b[0;31m# Fast version of type.__call__(cls, *args, **kwds)\u001b[0m\u001b[0;34m\u001b[0m\u001b[0;34m\u001b[0m\u001b[0m\n",
      "\u001b[0;32m/opt/sagemath-8.1/local/lib/python2.7/site-packages/sage/combinat/posets/posets.pyc\u001b[0m in \u001b[0;36m__classcall__\u001b[0;34m(cls, hasse_diagram, elements, category, facade, key)\u001b[0m\n\u001b[1;32m    906\u001b[0m             \u001b[0mTrue\u001b[0m\u001b[0;34m\u001b[0m\u001b[0m\n\u001b[1;32m    907\u001b[0m         \"\"\"\n\u001b[0;32m--> 908\u001b[0;31m         \u001b[0;32massert\u001b[0m \u001b[0misinstance\u001b[0m\u001b[0;34m(\u001b[0m\u001b[0mhasse_diagram\u001b[0m\u001b[0;34m,\u001b[0m \u001b[0;34m(\u001b[0m\u001b[0mFinitePoset\u001b[0m\u001b[0;34m,\u001b[0m \u001b[0mDiGraph\u001b[0m\u001b[0;34m)\u001b[0m\u001b[0;34m)\u001b[0m\u001b[0;34m\u001b[0m\u001b[0m\n\u001b[0m\u001b[1;32m    909\u001b[0m         \u001b[0;32mif\u001b[0m \u001b[0misinstance\u001b[0m\u001b[0;34m(\u001b[0m\u001b[0mhasse_diagram\u001b[0m\u001b[0;34m,\u001b[0m \u001b[0mFinitePoset\u001b[0m\u001b[0;34m)\u001b[0m\u001b[0;34m:\u001b[0m\u001b[0;34m\u001b[0m\u001b[0m\n\u001b[1;32m    910\u001b[0m             \u001b[0;32mif\u001b[0m \u001b[0mcategory\u001b[0m \u001b[0;32mis\u001b[0m \u001b[0mNone\u001b[0m\u001b[0;34m:\u001b[0m\u001b[0;34m\u001b[0m\u001b[0m\n",
      "\u001b[0;31mAssertionError\u001b[0m: "
     ]
    }
   ],
   "source": [
    "D = DiGraph([[0,1,2,3,4,5,6,7,8,9],[[0,1],[2,1],[2,3],[4,3],[4,5],[6,5],[7,4],[7,8],[9,8]]])\n",
    "atkinson(FinitePoset(D))"
   ]
  },
  {
   "cell_type": "code",
   "execution_count": null,
   "metadata": {
    "collapsed": true
   },
   "outputs": [],
   "source": []
  }
 ],
 "metadata": {
  "kernelspec": {
   "display_name": "SageMath 8.1",
   "language": "",
   "name": "sagemath"
  },
  "language_info": {
   "codemirror_mode": {
    "name": "ipython",
    "version": 2
   },
   "file_extension": ".py",
   "mimetype": "text/x-python",
   "name": "python",
   "nbconvert_exporter": "python",
   "pygments_lexer": "ipython2",
   "version": "2.7.14"
  }
 },
 "nbformat": 4,
 "nbformat_minor": 2
}
